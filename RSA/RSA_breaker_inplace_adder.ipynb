{
 "cells": [
  {
   "cell_type": "code",
   "execution_count": 1,
   "metadata": {},
   "outputs": [],
   "source": [
    "import Shor_library\n",
    "from qiskit import IBMQ\n",
    "import random\n",
    "from math import gcd"
   ]
  },
  {
   "cell_type": "code",
   "execution_count": 2,
   "metadata": {},
   "outputs": [
    {
     "name": "stdout",
     "output_type": "stream",
     "text": [
      "Public_key : (391,51) Secret_key :(352,283)\n",
      "\n",
      "b'Supersecret'\n",
      "[111, 128, 320, 50, 45, 276, 50, 143, 45, 50, 24]\n"
     ]
    }
   ],
   "source": [
    "\"\"\"Let's create a message\"\"\"\n",
    "message = b'Supersecret'\n",
    "\"\"\"Now we have to create our RSA key\"\"\"\n",
    "p = 23\n",
    "q = 17\n",
    "N = p*q\n",
    "phi = (p-1)*(q-1)\n",
    "e = random.randint(3,phi-1)\n",
    "while(gcd(e,phi)!=1):\n",
    "    e = random.randint(3,phi-1)\n",
    "d = Shor_library.modinv(e,phi)\n",
    "print('Public_key : ({0},{1}) Secret_key :({2},{3})\\n'.format(N,e,phi,d))\n",
    "print(message)\n",
    "ciphertext = []\n",
    "if(N<256):\n",
    "    for m in message:\n",
    "        m1 = m//16\n",
    "        m2 = m%16\n",
    "        c1 = pow(m1,e,N)\n",
    "        c2 = pow(m2,e,N)\n",
    "        ciphertext.append(c1)\n",
    "        ciphertext.append(c2)\n",
    "else:\n",
    "    for m in message:\n",
    "        c = pow(m,e,N)\n",
    "        ciphertext.append(c)\n",
    "print(ciphertext)"
   ]
  },
  {
   "cell_type": "code",
   "execution_count": 3,
   "metadata": {
    "scrolled": true
   },
   "outputs": [
    {
     "name": "stdout",
     "output_type": "stream",
     "text": [
      "Time consumed: 3116.3447125380003 Probability of good solution: 0 p_extracted: 0 q_extracted: 0\n",
      "Time consumed: 4566.8038366910005 Probability of good solution: 2.0 p_extracted: 17 q_extracted: 23\n"
     ]
    }
   ],
   "source": [
    "IBMQ.load_account();\n",
    "a = random.randint(2,N-1)\n",
    "while(gcd(a,N)!=1):\n",
    "    a = random.randint(2,N-1)\n",
    "(p_extracted,q_extracted,T,P) = Shor_library.Shor(N,a,100,method='inplace',runtime='True',prob='True')\n",
    "print('Time consumed:',T,'Probability of good solution:',P,'p_extracted:',p_extracted,'q_extracted:',q_extracted)\n",
    "while (p_extracted == 0):\n",
    "    a = random.randint(2,N-1)\n",
    "    while(gcd(a,N)!=1):\n",
    "        a = random.randint(2,N-1)\n",
    "    (p_extracted,q_extracted,T,P) = Shor_library.Shor(N,a,100,method='inplace',runtime='True',prob='True')\n",
    "    print('Time consumed:',T,'Probability of good solution:',P,'p_extracted:',p_extracted,'q_extracted:',q_extracted)"
   ]
  },
  {
   "cell_type": "code",
   "execution_count": 4,
   "metadata": {},
   "outputs": [
    {
     "name": "stdout",
     "output_type": "stream",
     "text": [
      "11\n",
      "[83, 117, 112, 101, 114, 115, 101, 99, 114, 101, 116]\n",
      "b'Supersecret'\n"
     ]
    }
   ],
   "source": [
    "phi_extracted = (p_extracted-1)*(q_extracted-1)\n",
    "d_extracted = Shor_library.modinv(e,phi_extracted)\n",
    "message_extracted = []\n",
    "n = len(ciphertext)\n",
    "print(n)\n",
    "if(N<256):\n",
    "    for i in range (0,n//2):\n",
    "        m_extracted1 = pow(ciphertext[2*i],d,N)\n",
    "        m_extracted2 = pow(ciphertext[2*i+1],d,N)\n",
    "        m_extracted = m_extracted1*16+m_extracted2\n",
    "        message_extracted.append(m_extracted)\n",
    "else:\n",
    "    for i in range (0,n):\n",
    "        m_extracted = pow(ciphertext[i],d_extracted,N)\n",
    "        message_extracted.append(m_extracted)\n",
    "print(message_extracted)\n",
    "print(bytes(message_extracted))"
   ]
  },
  {
   "cell_type": "code",
   "execution_count": null,
   "metadata": {},
   "outputs": [],
   "source": []
  }
 ],
 "metadata": {
  "kernelspec": {
   "display_name": "Python 3",
   "language": "python",
   "name": "python3"
  },
  "language_info": {
   "codemirror_mode": {
    "name": "ipython",
    "version": 3
   },
   "file_extension": ".py",
   "mimetype": "text/x-python",
   "name": "python",
   "nbconvert_exporter": "python",
   "pygments_lexer": "ipython3",
   "version": "3.8.5"
  }
 },
 "nbformat": 4,
 "nbformat_minor": 4
}
