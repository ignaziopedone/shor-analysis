{
 "cells": [
  {
   "cell_type": "code",
   "execution_count": null,
   "metadata": {},
   "outputs": [],
   "source": [
    "from qiskit import ClassicalRegister, QuantumCircuit, QuantumRegister\n",
    "from qiskit import Aer, execute, BasicAer\n",
    "from qiskit.visualization import plot_bloch_multivector, plot_histogram"
   ]
  },
  {
   "cell_type": "code",
   "execution_count": null,
   "metadata": {},
   "outputs": [],
   "source": [
    "def bitwise_complement(circuit,g,n):\n",
    "    for i in range(0,n):\n",
    "        circuit.x(g[i])\n",
    "\n",
    "def subtraction(circuit,x,y,c,N):\n",
    "    for i in range(N-1,-1,-1):\n",
    "        circuit.cx(x[i],y[i])\n",
    "    \n",
    "    for i in range(N-2,0,-1):\n",
    "        circuit.cx(x[i],x[i+1])\n",
    "    \n",
    "    for i in range(1,N):\n",
    "        circuit.ccx(y[i-1],x[i-1],x[i])\n",
    "        circuit.cx(x[i],y[i])\n",
    "    \n",
    "    circuit.ccx(y[N-1],x[N-1],c)\n",
    "    \n",
    "    for i in range(N-2,-1,-1):\n",
    "        circuit.ccx(y[i],x[i],x[i+1])\n",
    "    \n",
    "    for i in range(1,N-1):\n",
    "        circuit.cx(x[i],x[i+1])\n",
    "    \n",
    "    circuit.cx(x[N-1],c)\n",
    "    \n",
    "    for i in range(N-1,0,-1):\n",
    "        circuit.cx(x[i],y[i])"
   ]
  },
  {
   "cell_type": "code",
   "execution_count": null,
   "metadata": {},
   "outputs": [],
   "source": [
    "\"\"\"\n",
    "    x is the register to increment with the control qubit as first element, so n qubits\n",
    "    g is a register with n-1 dirty qubits\n",
    "    g'-1 is the bitwise complement of g\n",
    "    |x>|g> -> |x-g>|g> -> |x-g>|g'-1> -> |x-g-g'+1>|g'-1> -> |x+1>|g>\n",
    "\"\"\"\n",
    "def incremental_gate_controlled(circuit,x,g,n):\n",
    "    if(n==2):\n",
    "        circuit.cx(x[0],x[1])\n",
    "    elif(n==3):\n",
    "        circuit.ccx(x[0],x[1],x[2])\n",
    "        circuit.cx(x[0],x[1])\n",
    "    else:\n",
    "        subtraction(circuit,g,x[:n-1],x[n-1],n-1)\n",
    "        bitwise_complement(circuit,g,n-1)\n",
    "        subtraction(circuit,g,x[:n-1],x[n-1],n-1)\n",
    "        bitwise_complement(circuit,g,n-1)\n",
    "        circuit.x(x[0])\n",
    "        circuit.x(x[n-1])"
   ]
  },
  {
   "cell_type": "code",
   "execution_count": null,
   "metadata": {},
   "outputs": [],
   "source": [
    "def incrementer(A,s):\n",
    "    n=3\n",
    "    x = QuantumRegister(n)\n",
    "    c = QuantumRegister(1)\n",
    "    g = QuantumRegister(n)\n",
    "    clas_A = ClassicalRegister(n)\n",
    "    clas_s = ClassicalRegister(n)\n",
    "    clas_c = ClassicalRegister(1)\n",
    "    circuit = QuantumCircuit(g,c,x,clas_A,clas_s,clas_c)\n",
    "    s_A=bin(int(A))[2:].zfill(n)\n",
    "    s_s=bin(int(s))[2:].zfill(n)\n",
    "    for i in range(0, n):\n",
    "        if s_A[i] == '1':\n",
    "            circuit.x(x[n-1-i])\n",
    "    for i in range(0, n):\n",
    "        if s_s[i] == '1':\n",
    "            circuit.x(g[n-1-i])\n",
    "    circuit.x(c)\n",
    "    incremental_gate_controlled(circuit,c[0:1]+x[0:n],g,n+1)\n",
    "    for i in range(0,n):\n",
    "        circuit.measure(x[i],clas_A[i])\n",
    "    for i in range(0,n):\n",
    "        circuit.measure(g[i],clas_s[i])\n",
    "    circuit.measure(c,clas_c)\n",
    "    backend = BasicAer.get_backend('qasm_simulator')\n",
    "    simulation = execute(circuit, backend=backend ,shots=10)\n",
    "    sim_result = simulation.result()\n",
    "    out=list(sim_result.get_counts().keys())[0]\n",
    "    output=out.split(' ')\n",
    "    output_A = output[2]\n",
    "    output_s = output[1]\n",
    "    output_c = output[0]\n",
    "    res_A = int(output_A, 2)\n",
    "    res_s = int(output_s, 2)\n",
    "    res_c = int(output_c, 2)\n",
    "    print('A:',A,'s:',s)\n",
    "    print('res_A:',res_A,'res_s:',res_s,'res_c:',res_c)\n",
    "    if(res_c!=1 or res_A!=(A+1)%(2**n) or res_s!=s):\n",
    "        print('found!')"
   ]
  },
  {
   "cell_type": "code",
   "execution_count": null,
   "metadata": {},
   "outputs": [],
   "source": [
    "for i in range (0,2**3):\n",
    "    for j in range (0,2**3):\n",
    "        incrementer(i,j)\n",
    "        print('-----------')"
   ]
  }
 ],
 "metadata": {
  "kernelspec": {
   "display_name": "Python 3",
   "language": "python",
   "name": "python3"
  },
  "language_info": {
   "codemirror_mode": {
    "name": "ipython",
    "version": 3
   },
   "file_extension": ".py",
   "mimetype": "text/x-python",
   "name": "python",
   "nbconvert_exporter": "python",
   "pygments_lexer": "ipython3",
   "version": "3.8.5"
  }
 },
 "nbformat": 4,
 "nbformat_minor": 4
}
