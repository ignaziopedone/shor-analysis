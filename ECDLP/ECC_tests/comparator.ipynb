{
 "cells": [
  {
   "cell_type": "code",
   "execution_count": null,
   "metadata": {},
   "outputs": [],
   "source": [
    "import sys\n",
    "# setting path\n",
    "sys.path.append('..')\n",
    "# importing\n",
    "from qiskit import ClassicalRegister, QuantumCircuit, QuantumRegister\n",
    "from qiskit import Aer, execute, IBMQ, BasicAer\n",
    "from qiskit.aqua import QuantumInstance\n",
    "import ECC_library\n",
    "from qiskit.visualization import plot_bloch_multivector, plot_histogram"
   ]
  },
  {
   "cell_type": "code",
   "execution_count": null,
   "metadata": {},
   "outputs": [],
   "source": [
    "def addition_without_carry(circuit,x,y,N):\n",
    "    for i in range(1,N):\n",
    "        circuit.cx(x[i],y[i])\n",
    "    for i in range(N-2,0,-1):\n",
    "        circuit.cx(x[i],x[i+1])\n",
    "    for i in range(0,N-1):\n",
    "        circuit.ccx(y[i],x[i],x[i+1])\n",
    "    for i in range(N-1,0,-1):\n",
    "        circuit.cx(x[i],y[i])\n",
    "        circuit.ccx(y[i-1],x[i-1],x[i])\n",
    "    for i in range(1,N-1):\n",
    "        circuit.cx(x[i],x[i+1])\n",
    "    for i in range(0,N):\n",
    "        circuit.cx(x[i],y[i])"
   ]
  },
  {
   "cell_type": "code",
   "execution_count": null,
   "metadata": {},
   "outputs": [],
   "source": [
    "\"\"\"check if b>a\"\"\"\n",
    "def test_comparator(a,b,n):\n",
    "    x = QuantumRegister(n)\n",
    "    y = QuantumRegister(n)\n",
    "    c = QuantumRegister(1)\n",
    "    clas_a = ClassicalRegister(n)\n",
    "    clas_b = ClassicalRegister(n)\n",
    "    clas_c = ClassicalRegister(1)\n",
    "    circuit = QuantumCircuit(x,y,c,clas_a,clas_b,clas_c)\n",
    "    s_a=bin(int(a))[2:].zfill(n)\n",
    "    s_b=bin(int(b))[2:].zfill(n)\n",
    "    for i in range(0, n):\n",
    "        if s_a[i] == '1':\n",
    "            circuit.x(x[n-1-i])\n",
    "    for i in range(0, n):\n",
    "        if s_b[i] == '1':\n",
    "            circuit.x(y[n-1-i])\n",
    "    \"\"\"if b<a, the sub gate will toggle the c qubit, leaving in the y register b-a mod 2**n\"\"\"\n",
    "    ECC_library.subtraction(circuit,x,y,c,n)\n",
    "    \"\"\"After that, we perform an addition without affecting the c qubit\"\"\"\n",
    "    addition_without_carry(circuit,x,y,n)\n",
    "    for i in range(0, n):\n",
    "        circuit.measure(x[i],clas_a[i])\n",
    "    for i in range(0, n):\n",
    "        circuit.measure(y[i],clas_b[i])\n",
    "    circuit.measure(c,clas_c)\n",
    "    print('a:',a,'b:',b)\n",
    "    backend = BasicAer.get_backend('qasm_simulator')\n",
    "    simulation = execute(circuit, backend=backend ,shots=10)\n",
    "    sim_result = simulation.result()\n",
    "    out=list(sim_result.get_counts().keys())[0]\n",
    "    output=out.split(' ')\n",
    "    output_a = output[2]\n",
    "    output_b = output[1]\n",
    "    output_c = output[0]\n",
    "    res_a = int(output_a, 2)\n",
    "    res_b = int(output_b, 2)\n",
    "    res_c = int(output_c, 2)\n",
    "    print('res_a:',res_a,'res_b:',res_b,'res_c:',res_c)\n",
    "    if((b<a and res_c==0) or res_b!=b or (b>=a and res_c==1) or res_a!=a):\n",
    "        print('found!')"
   ]
  },
  {
   "cell_type": "code",
   "execution_count": null,
   "metadata": {
    "scrolled": false
   },
   "outputs": [],
   "source": [
    "for i in range (0,2**5,3):\n",
    "    for j in range (0,2**5,5):\n",
    "        test_comparator(i,j,5)\n",
    "        print('-----------')"
   ]
  }
 ],
 "metadata": {
  "kernelspec": {
   "display_name": "Python 3",
   "language": "python",
   "name": "python3"
  },
  "language_info": {
   "codemirror_mode": {
    "name": "ipython",
    "version": 3
   },
   "file_extension": ".py",
   "mimetype": "text/x-python",
   "name": "python",
   "nbconvert_exporter": "python",
   "pygments_lexer": "ipython3",
   "version": "3.8.5"
  }
 },
 "nbformat": 4,
 "nbformat_minor": 4
}
