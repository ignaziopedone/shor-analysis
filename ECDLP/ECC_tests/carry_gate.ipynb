{
 "cells": [
  {
   "cell_type": "code",
   "execution_count": null,
   "metadata": {},
   "outputs": [],
   "source": [
    "from qiskit import ClassicalRegister, QuantumCircuit, QuantumRegister\n",
    "from qiskit import Aer, execute, BasicAer\n",
    "from qiskit.visualization import plot_bloch_multivector, plot_histogram"
   ]
  },
  {
   "cell_type": "code",
   "execution_count": null,
   "metadata": {},
   "outputs": [],
   "source": [
    "\"\"\"\n",
    "    a in the register of n qubits to which we have to add the constant\n",
    "    c is the constant\n",
    "    g is the register of n-1 dirty ancilla qubits\n",
    "    m is the qubit where we will save the carry\n",
    "\"\"\"\n",
    "\n",
    "def carry_gate(circuit,a,g,m,c,n):\n",
    "    circuit.cx(g[n-2],m)\n",
    "    circuit.barrier(a,g,m)\n",
    "    for i in range(n-1,1,-1):\n",
    "        if(c[i]=='1'):\n",
    "            circuit.cx(a[i],g[i-1])\n",
    "            circuit.x(a[i])\n",
    "        circuit.ccx(g[i-2],a[i],g[i-1])\n",
    "    circuit.barrier(a,g,m)\n",
    "    if(c[1]=='1'):\n",
    "        circuit.cx(a[1],g[0])\n",
    "        circuit.x(a[1])\n",
    "    if(c[0]=='1'):\n",
    "        circuit.ccx(a[0],a[1],g[0])\n",
    "    circuit.barrier(a,g,m)\n",
    "    for i in range(2,n):\n",
    "        circuit.ccx(g[i-2],a[i],g[i-1])\n",
    "    circuit.barrier(a,g,m)\n",
    "    circuit.cx(g[n-2],m)\n",
    "    circuit.barrier(a,g,m)\n",
    "    for i in range(n-1,1,-1):\n",
    "        circuit.ccx(g[i-2],a[i],g[i-1])\n",
    "    circuit.barrier(a,g,m)\n",
    "    if(c[0]=='1'):\n",
    "        circuit.ccx(a[0],a[1],g[0])\n",
    "    if(c[1]=='1'):\n",
    "        circuit.x(a[1])\n",
    "        circuit.cx(a[1],g[0])\n",
    "    circuit.barrier(a,g,m)\n",
    "    for i in range(2,n):\n",
    "        circuit.ccx(g[i-2],a[i],g[i-1])\n",
    "        if(c[i]=='1'):\n",
    "            circuit.x(a[i])\n",
    "            circuit.cx(a[i],g[i-1])\n",
    "    circuit.barrier(a,g,m)"
   ]
  },
  {
   "cell_type": "code",
   "execution_count": null,
   "metadata": {},
   "outputs": [],
   "source": [
    "def test(A,c,n):\n",
    "    g1=0\n",
    "    x = QuantumRegister(n)\n",
    "    g = QuantumRegister(n-1)\n",
    "    m = QuantumRegister(1)\n",
    "    clas_A = ClassicalRegister(n)\n",
    "    clas_g = ClassicalRegister(n-1)\n",
    "    clas_m = ClassicalRegister(1)\n",
    "    circuit = QuantumCircuit(x,g,m,clas_A,clas_g,clas_m)\n",
    "    s_c=bin(int(c))[2:].zfill(n)\n",
    "    s_c=s_c[::-1]\n",
    "    s_A=bin(int(A))[2:].zfill(n)\n",
    "    for i in range(0, n):\n",
    "        if s_A[i] == '1':\n",
    "            circuit.x(x[n-1-i])\n",
    "    carry_gate(circuit,x,g,m,s_c,n)\n",
    "    for i in range(0,n):\n",
    "        circuit.measure(x[i],clas_A[i])\n",
    "    for i in range(0,n-1):\n",
    "        circuit.measure(g[i],clas_g[i])\n",
    "    circuit.measure(m,clas_m)\n",
    "    backend = BasicAer.get_backend('qasm_simulator')\n",
    "    simulation = execute(circuit, backend=backend ,shots=10)\n",
    "    sim_result = simulation.result()\n",
    "    out=list(sim_result.get_counts().keys())[0]\n",
    "    output=out.split(' ')\n",
    "    output_A = output[2]\n",
    "    output_g = output[1]\n",
    "    output_m = output[0]\n",
    "    res_A = int(output_A, 2)\n",
    "    res_g = int(output_g, 2)\n",
    "    res_m = int(output_m, 2)\n",
    "    print(A,res_A,c,(A+c)//(2**n),res_g,res_m)\n",
    "    if(res_m!=(A+c)//(2**n) or res_A!=A or res_g!=g1):\n",
    "        print('found!')"
   ]
  },
  {
   "cell_type": "code",
   "execution_count": null,
   "metadata": {},
   "outputs": [],
   "source": [
    "for i in range (0,2**4):\n",
    "    for j in range (0,2**4):\n",
    "        test(i,j,4)\n",
    "        print('-----------')"
   ]
  }
 ],
 "metadata": {
  "kernelspec": {
   "display_name": "Python 3",
   "language": "python",
   "name": "python3"
  },
  "language_info": {
   "codemirror_mode": {
    "name": "ipython",
    "version": 3
   },
   "file_extension": ".py",
   "mimetype": "text/x-python",
   "name": "python",
   "nbconvert_exporter": "python",
   "pygments_lexer": "ipython3",
   "version": "3.8.5"
  }
 },
 "nbformat": 4,
 "nbformat_minor": 4
}
