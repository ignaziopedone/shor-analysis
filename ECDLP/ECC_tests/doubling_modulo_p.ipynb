{
 "cells": [
  {
   "cell_type": "code",
   "execution_count": null,
   "metadata": {},
   "outputs": [],
   "source": [
    "import sys\n",
    "# setting path\n",
    "sys.path.append('..')\n",
    "# importing\n",
    "import ECC_library\n",
    "from qiskit.circuit import Gate\n",
    "from qiskit import ClassicalRegister, QuantumCircuit, QuantumRegister\n",
    "from qiskit import Aer, execute, IBMQ, BasicAer\n",
    "from qiskit.aqua import QuantumInstance\n",
    "from qiskit.visualization import plot_bloch_multivector, plot_histogram"
   ]
  },
  {
   "cell_type": "code",
   "execution_count": null,
   "metadata": {},
   "outputs": [],
   "source": [
    "def test_doubling_modulo_p(a,p,n,g_s):\n",
    "    x = QuantumRegister(n,name='x')\n",
    "    c = QuantumRegister(1,name='d')\n",
    "    g = QuantumRegister(1,name='g')\n",
    "    clas_a = ClassicalRegister(n)\n",
    "    clas_c = ClassicalRegister(1)\n",
    "    clas_g = ClassicalRegister(1)\n",
    "    circuit = QuantumCircuit(x,c,g,clas_a,clas_c,clas_g)\n",
    "    s_a=bin(int(a))[2:].zfill(n)\n",
    "    s_p=bin(int(p))[2:].zfill(n)\n",
    "    s_p=s_p[::-1]\n",
    "    s_p1=s_p[::]+'0'\n",
    "    if(g_s=='1'):\n",
    "        circuit.x(g)\n",
    "    for i in range(0, n):\n",
    "        if s_a[i] == '1':\n",
    "            circuit.x(x[n-1-i])\n",
    "    ECC_library.binary_doubling_cyclic(circuit,x[0:n]+c[0:1],n+1)\n",
    "    ECC_library.constant_subtraction(circuit,x[0:n]+c[0:1],g,s_p1,n+1)\n",
    "    ECC_library.controlled_constant_addition(circuit,c,x,g,s_p,n)\n",
    "    circuit.x(x[0])\n",
    "    circuit.cx(x[0],c)\n",
    "    circuit.x(x[0])\n",
    "    for i in range(0, n):\n",
    "        circuit.measure(x[i],clas_a[i])\n",
    "    circuit.measure(c,clas_c)\n",
    "    circuit.measure(g,clas_g)\n",
    "    print('a:',a,'p:',p,'g:',g_s,'n:',n)\n",
    "    backend = BasicAer.get_backend('qasm_simulator')\n",
    "    simulation = execute(circuit, backend=backend ,shots=10)\n",
    "    sim_result = simulation.result()\n",
    "    out=list(sim_result.get_counts().keys())[0]\n",
    "    output=out.split(' ')\n",
    "    output_a = output[2]\n",
    "    output_c = output[1]\n",
    "    res_g = output[0]\n",
    "    res_a = int(output_a, 2)\n",
    "    res_c = int(output_c, 2)\n",
    "    print('res_a:',res_a,'res_c:',res_c,'res_g:',res_g)\n",
    "    if (res_a!=(a+a)%p or res_c!=0 or res_g!=g_s):\n",
    "        print('found!')"
   ]
  },
  {
   "cell_type": "code",
   "execution_count": null,
   "metadata": {
    "scrolled": false
   },
   "outputs": [],
   "source": [
    "for n in range (4,6):\n",
    "    for p in range (7,2**n,2):\n",
    "        for i in range (0,p):\n",
    "                test_doubling_modulo_p(i,p,n,'0')\n",
    "                test_doubling_modulo_p(i,p,n,'1')\n",
    "                print('-----------')"
   ]
  }
 ],
 "metadata": {
  "kernelspec": {
   "display_name": "Python 3",
   "language": "python",
   "name": "python3"
  },
  "language_info": {
   "codemirror_mode": {
    "name": "ipython",
    "version": 3
   },
   "file_extension": ".py",
   "mimetype": "text/x-python",
   "name": "python",
   "nbconvert_exporter": "python",
   "pygments_lexer": "ipython3",
   "version": "3.8.5"
  }
 },
 "nbformat": 4,
 "nbformat_minor": 4
}
