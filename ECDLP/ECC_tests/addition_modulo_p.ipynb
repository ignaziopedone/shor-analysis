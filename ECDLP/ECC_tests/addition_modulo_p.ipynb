{
 "cells": [
  {
   "cell_type": "code",
   "execution_count": null,
   "metadata": {},
   "outputs": [],
   "source": [
    "import sys\n",
    "# setting path\n",
    "sys.path.append('..')\n",
    "# importing\n",
    "import ECC_library\n",
    "from qiskit.circuit import Gate\n",
    "from qiskit import ClassicalRegister, QuantumCircuit, QuantumRegister\n",
    "from qiskit import Aer, execute, IBMQ, BasicAer\n",
    "from qiskit.aqua import QuantumInstance"
   ]
  },
  {
   "cell_type": "code",
   "execution_count": null,
   "metadata": {},
   "outputs": [],
   "source": [
    "IBMQ.load_account()"
   ]
  },
  {
   "cell_type": "code",
   "execution_count": null,
   "metadata": {
    "scrolled": false
   },
   "outputs": [],
   "source": [
    "def test_addition_modulo_p(a,b,p,n,g_s):\n",
    "    x = QuantumRegister(n,name='x')\n",
    "    y = QuantumRegister(n,name='y')\n",
    "    c = QuantumRegister(1,name='d')\n",
    "    g = QuantumRegister(1,name='g')\n",
    "    clas_a = ClassicalRegister(n)\n",
    "    clas_b = ClassicalRegister(n)\n",
    "    clas_c = ClassicalRegister(1)\n",
    "    clas_g = ClassicalRegister(1)\n",
    "    circuit = QuantumCircuit(x,y,c,g,clas_a,clas_b,clas_c,clas_g)\n",
    "    s_a=bin(int(a))[2:].zfill(n)\n",
    "    s_b=bin(int(b))[2:].zfill(n)\n",
    "    s_p=bin(int(p))[2:].zfill(n)\n",
    "    s_p=s_p[::-1]\n",
    "    s_p1=s_p[::]+'0'\n",
    "    if(g_s=='1'):\n",
    "        circuit.x(g)\n",
    "    for i in range(0, n):\n",
    "        if s_a[i] == '1':\n",
    "            circuit.x(x[n-1-i])\n",
    "        if s_b[i] == '1':\n",
    "            circuit.x(y[n-1-i])\n",
    "    ECC_library.addition(circuit,x,y,c,n)\n",
    "    ECC_library.constant_subtraction(circuit,y[0:n]+c[0:1],g,s_p1,n+1)\n",
    "    ECC_library.controlled_constant_addition(circuit,c,y,g,s_p,n)\n",
    "    ECC_library.comparator(circuit,y,x,c,n)\n",
    "    circuit.x(c)\n",
    "    for i in range(0, n):\n",
    "        circuit.measure(x[i],clas_a[i])\n",
    "    for i in range(0, n):\n",
    "        circuit.measure(y[i],clas_b[i])\n",
    "    circuit.measure(c,clas_c)\n",
    "    circuit.measure(g,clas_g)\n",
    "    circuit.qasm()\n",
    "    print('a:',a,'b:',b,'p:',p,'g:',g_s)\n",
    "    provider = IBMQ.get_provider('ibm-q')\n",
    "    backend = provider.get_backend('ibmq_qasm_simulator')\n",
    "    simulation = execute(circuit, backend=backend ,shots=10)\n",
    "    sim_result = simulation.result()\n",
    "    out=list(sim_result.get_counts().keys())[0]\n",
    "    output=out.split(' ')\n",
    "    output_a = output[3]\n",
    "    output_b = output[2]\n",
    "    output_c = output[1]\n",
    "    res_g = output[0]\n",
    "    res_a = int(output_a, 2)\n",
    "    res_b = int(output_b, 2)\n",
    "    res_c = int(output_c, 2)\n",
    "    print('res_a:',res_a,'res_b:',res_b,'res_c:',res_c,'res_g:',res_g)\n",
    "    if (res_b!=(a+b)%p or res_c!=0 or res_g!=g_s or res_a!=a):\n",
    "        print('found!')"
   ]
  },
  {
   "cell_type": "code",
   "execution_count": null,
   "metadata": {
    "scrolled": true
   },
   "outputs": [],
   "source": [
    "for n in range (4,6):\n",
    "    for p in range (8,2**n):\n",
    "        for i in range (0,p):\n",
    "            for j in range (0,p):\n",
    "                test_addition_modulo_p(i,j,p,n,'1')\n",
    "                print('-----------')"
   ]
  }
 ],
 "metadata": {
  "kernelspec": {
   "display_name": "Python 3",
   "language": "python",
   "name": "python3"
  },
  "language_info": {
   "codemirror_mode": {
    "name": "ipython",
    "version": 3
   },
   "file_extension": ".py",
   "mimetype": "text/x-python",
   "name": "python",
   "nbconvert_exporter": "python",
   "pygments_lexer": "ipython3",
   "version": "3.8.5"
  }
 },
 "nbformat": 4,
 "nbformat_minor": 4
}
