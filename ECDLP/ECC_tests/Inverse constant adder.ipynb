{
 "cells": [
  {
   "cell_type": "code",
   "execution_count": null,
   "metadata": {},
   "outputs": [],
   "source": [
    "import sys\n",
    "# setting path\n",
    "sys.path.append('..')\n",
    "# importing\n",
    "import ECC_library\n",
    "from qiskit import ClassicalRegister, QuantumCircuit, QuantumRegister\n",
    "from qiskit import Aer, execute, IBMQ, BasicAer\n",
    "from qiskit.aqua import QuantumInstance\n",
    "from qiskit.circuit import Gate"
   ]
  },
  {
   "cell_type": "code",
   "execution_count": null,
   "metadata": {},
   "outputs": [],
   "source": [
    "def test_const_sub(A,c,n):\n",
    "    x = QuantumRegister(n)\n",
    "    g = QuantumRegister(1)\n",
    "    clas = ClassicalRegister(n)\n",
    "    circuit = QuantumCircuit(x,g,clas)\n",
    "    s_c=bin(int(c))[2:].zfill(n)\n",
    "    s_c=s_c[::-1]\n",
    "    s_A=bin(int(A))[2:].zfill(n)\n",
    "    print(A,c)\n",
    "    for i in range(0, n):\n",
    "        if s_A[i] == '1':\n",
    "            circuit.x(x[n-1-i])\n",
    "    ECC_library.constant_subtraction(circuit,x,g,s_c,n)\n",
    "    for i in range(0,n):\n",
    "        circuit.measure(x[i],clas[i])\n",
    "    backend = BasicAer.get_backend('qasm_simulator')\n",
    "    simulation = execute(circuit, backend=backend ,shots=10)\n",
    "    sim_result = simulation.result()\n",
    "    out=list(sim_result.get_counts().keys())[0]\n",
    "    res_A = int(out, 2)\n",
    "    print(res_A)\n",
    "    if(res_A!=(A-c)%(2**n)):\n",
    "        print('found!')"
   ]
  },
  {
   "cell_type": "code",
   "execution_count": null,
   "metadata": {},
   "outputs": [],
   "source": [
    "for i in range (0,2**8,23):\n",
    "    for j in range (0,2**8,31):\n",
    "        test_const_sub(i,j,8)\n",
    "        print('-----------')"
   ]
  }
 ],
 "metadata": {
  "kernelspec": {
   "display_name": "Python 3",
   "language": "python",
   "name": "python3"
  },
  "language_info": {
   "codemirror_mode": {
    "name": "ipython",
    "version": 3
   },
   "file_extension": ".py",
   "mimetype": "text/x-python",
   "name": "python",
   "nbconvert_exporter": "python",
   "pygments_lexer": "ipython3",
   "version": "3.8.5"
  }
 },
 "nbformat": 4,
 "nbformat_minor": 4
}
