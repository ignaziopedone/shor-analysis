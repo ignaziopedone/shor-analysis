{
 "cells": [
  {
   "cell_type": "code",
   "execution_count": null,
   "metadata": {},
   "outputs": [],
   "source": [
    "import sys\n",
    "# setting path\n",
    "sys.path.append('..')\n",
    "# importing\n",
    "from qiskit import ClassicalRegister, QuantumCircuit, QuantumRegister\n",
    "from qiskit import Aer, execute, BasicAer\n",
    "from qiskit.visualization import plot_bloch_multivector, plot_histogram\n",
    "import ECC_library"
   ]
  },
  {
   "cell_type": "code",
   "execution_count": null,
   "metadata": {},
   "outputs": [],
   "source": [
    "\"\"\"Test:\n",
    "    c is the costant to be added\n",
    "    A is the number in the quantum register\n",
    "\"\"\"\n",
    "def test_const_adder(A,c,n):\n",
    "    x = QuantumRegister(n)\n",
    "    g = QuantumRegister(1)\n",
    "    clas = ClassicalRegister(n)\n",
    "    clas_g = ClassicalRegister(1)\n",
    "    circuit = QuantumCircuit(x,g,clas,clas_g)\n",
    "    s_c=bin(int(c))[2:].zfill(n)\n",
    "    s_c=s_c[::-1]\n",
    "    s_A=bin(int(A))[2:].zfill(n)\n",
    "    print('A:',A,'c:',c,'n:',n)\n",
    "    for i in range(0, n):\n",
    "        if s_A[i] == '1':\n",
    "            circuit.x(x[n-1-i])\n",
    "    circuit.x(g)\n",
    "    ECC_library.constant_addition(circuit,x,g,s_c,n)\n",
    "    for i in range(0,n):\n",
    "        circuit.measure(x[i],clas[i])\n",
    "    circuit.measure(g,clas_g)\n",
    "    backend = BasicAer.get_backend('qasm_simulator')\n",
    "    simulation = execute(circuit, backend=backend ,shots=10)\n",
    "    sim_result = simulation.result()\n",
    "    out=list(sim_result.get_counts().keys())[0]\n",
    "    output=out.split(' ')\n",
    "    output_A = output[1]\n",
    "    output_g = output[0]\n",
    "    res_A = int(output_A, 2)\n",
    "    res_g = int(output_g, 2)\n",
    "    print(A,c)\n",
    "    print(res_A,res_g)\n",
    "    if(res_A!=(A+c)%(2**n) or res_g=='0'):\n",
    "        print('found!')"
   ]
  },
  {
   "cell_type": "code",
   "execution_count": null,
   "metadata": {},
   "outputs": [],
   "source": [
    "for n in range (6,7):\n",
    "    for i in range (0,2**n,3):\n",
    "        for j in range (0,2**n,5):\n",
    "            test_const_adder(i,j,n)\n",
    "            print('-----------')"
   ]
  }
 ],
 "metadata": {
  "kernelspec": {
   "display_name": "Python 3",
   "language": "python",
   "name": "python3"
  },
  "language_info": {
   "codemirror_mode": {
    "name": "ipython",
    "version": 3
   },
   "file_extension": ".py",
   "mimetype": "text/x-python",
   "name": "python",
   "nbconvert_exporter": "python",
   "pygments_lexer": "ipython3",
   "version": "3.8.5"
  }
 },
 "nbformat": 4,
 "nbformat_minor": 4
}
