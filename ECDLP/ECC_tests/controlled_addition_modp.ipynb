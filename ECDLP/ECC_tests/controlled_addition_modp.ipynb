{
 "cells": [
  {
   "cell_type": "code",
   "execution_count": null,
   "metadata": {},
   "outputs": [],
   "source": [
    "import sys\n",
    "# setting path\n",
    "sys.path.append('..')\n",
    "# importing\n",
    "import ECC_library\n",
    "from qiskit.circuit import Gate\n",
    "from qiskit import ClassicalRegister, QuantumCircuit, QuantumRegister\n",
    "from qiskit import Aer, execute, IBMQ, BasicAer\n",
    "from qiskit.aqua import QuantumInstance"
   ]
  },
  {
   "cell_type": "code",
   "execution_count": null,
   "metadata": {},
   "outputs": [],
   "source": [
    "def controlled_addition_without_carry(circuit,ctrl,x,y,N):\n",
    "    sub_x = QuantumRegister(n)\n",
    "    sub_y = QuantumRegister(n)\n",
    "    sub_circ = QuantumCircuit(sub_x,sub_y,name='add_no_car')\n",
    "    ECC_library.addition_without_carry(sub_circ,sub_x,sub_y,n)\n",
    "    sub_inst = sub_circ.to_gate().control()\n",
    "    circuit.append(sub_inst,ctrl[0:1]+x[0:n]+y[0:n])"
   ]
  },
  {
   "cell_type": "code",
   "execution_count": null,
   "metadata": {},
   "outputs": [],
   "source": [
    "def controlled_comparator(circuit,ctrl,x,y,c,n):\n",
    "    ECC_library.controlled_subtraction(circuit,ctrl,y,x,c,n)\n",
    "    controlled_addition_without_carry(circuit,ctrl,y,x,n)"
   ]
  },
  {
   "cell_type": "code",
   "execution_count": null,
   "metadata": {},
   "outputs": [],
   "source": [
    "def controlled_addition_modp(circuit,ctrl,x,y,c,g,p,n):\n",
    "    p1 = p+'0'\n",
    "    ECC_library.controlled_addition(circuit,ctrl,x,y,c,n)\n",
    "    ECC_library.constant_subtraction(circuit,y[0:n]+c[0:1],g,p1,n+1)\n",
    "    ECC_library.controlled_constant_addition(circuit,c,y,g,p,n)\n",
    "    controlled_comparator(circuit,ctrl,y,x,c,n)\n",
    "    circuit.x(c)"
   ]
  },
  {
   "cell_type": "code",
   "execution_count": null,
   "metadata": {},
   "outputs": [],
   "source": [
    "def test(a,b,p,n,control,g_s):\n",
    "    ctrl = QuantumRegister(1,name='ctrl')\n",
    "    x = QuantumRegister(n,name='x')\n",
    "    y = QuantumRegister(n,name='y')\n",
    "    c = QuantumRegister(1,name='d')\n",
    "    g = QuantumRegister(1,name='g')\n",
    "    clas_a = ClassicalRegister(n)\n",
    "    clas_b = ClassicalRegister(n)\n",
    "    clas_c = ClassicalRegister(1)\n",
    "    clas_g = ClassicalRegister(1)\n",
    "    circuit = QuantumCircuit(ctrl,x,y,c,g,clas_a,clas_b,clas_c,clas_g)\n",
    "    s_a=bin(int(a))[2:].zfill(n)\n",
    "    s_b=bin(int(b))[2:].zfill(n)\n",
    "    s_p=bin(int(p))[2:].zfill(n)\n",
    "    s_p=s_p[::-1]\n",
    "    for i in range(0, n):\n",
    "        if s_a[i] == '1':\n",
    "            circuit.x(x[n-1-i])\n",
    "        if s_b[i] == '1':\n",
    "            circuit.x(y[n-1-i])\n",
    "    if control=='1':\n",
    "        circuit.x(ctrl)\n",
    "    if g_s=='1':\n",
    "        circuit.x(g)\n",
    "    controlled_addition_modp(circuit,ctrl,x,y,c,g,s_p,n)\n",
    "    for i in range(0, n):\n",
    "        circuit.measure(x[i],clas_a[i])\n",
    "    for i in range(0, n):\n",
    "        circuit.measure(y[i],clas_b[i])\n",
    "    circuit.measure(c,clas_c)\n",
    "    circuit.measure(g,clas_g)\n",
    "    print('a:',a,'b:',b,'p:',p,'n:',n,'g:',g_s,'ctrl:',control)\n",
    "    backend = BasicAer.get_backend('qasm_simulator')\n",
    "    simulation = execute(circuit, backend=backend ,shots=10)\n",
    "    sim_result = simulation.result()\n",
    "    out=list(sim_result.get_counts().keys())[0]\n",
    "    output=out.split(' ')\n",
    "    output_a = output[3]\n",
    "    output_b = output[2]\n",
    "    output_c = output[1]\n",
    "    res_g = output[0]\n",
    "    res_a = int(output_a, 2)\n",
    "    res_b = int(output_b, 2)\n",
    "    res_c = int(output_c, 2)\n",
    "    print('res_a:',res_a,'res_b:',res_b,'res_c:',res_c,'res_g:',res_g)\n",
    "    if ((res_b!=(a+b)%p and control=='1') or (res_b!=b and control=='0') or res_c!=0 or res_g!=g_s or res_a!=a):\n",
    "        print('found!')"
   ]
  },
  {
   "cell_type": "code",
   "execution_count": null,
   "metadata": {
    "scrolled": false
   },
   "outputs": [],
   "source": [
    "for n in range (4,5):\n",
    "    for p in range (7,9,2):\n",
    "        for i in range (0,p):\n",
    "            for j in range (0,p):\n",
    "                test(i,j,p,n,'0','0')\n",
    "                test(i,j,p,n,'0','1')\n",
    "                test(i,j,p,n,'1','0')\n",
    "                test(i,j,p,n,'1','1')\n",
    "                print('-----------')"
   ]
  }
 ],
 "metadata": {
  "kernelspec": {
   "display_name": "Python 3",
   "language": "python",
   "name": "python3"
  },
  "language_info": {
   "codemirror_mode": {
    "name": "ipython",
    "version": 3
   },
   "file_extension": ".py",
   "mimetype": "text/x-python",
   "name": "python",
   "nbconvert_exporter": "python",
   "pygments_lexer": "ipython3",
   "version": "3.8.5"
  }
 },
 "nbformat": 4,
 "nbformat_minor": 4
}
