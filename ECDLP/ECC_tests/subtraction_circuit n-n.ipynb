{
 "cells": [
  {
   "cell_type": "code",
   "execution_count": 1,
   "metadata": {},
   "outputs": [],
   "source": [
    "from qiskit import ClassicalRegister, QuantumCircuit, QuantumRegister\n",
    "from qiskit import Aer, execute, BasicAer\n",
    "from qiskit.visualization import plot_bloch_multivector, plot_histogram"
   ]
  },
  {
   "cell_type": "code",
   "execution_count": 2,
   "metadata": {},
   "outputs": [],
   "source": [
    "def subtraction(circuit,x,y,c,N):\n",
    "    for i in range(N-1,0,-1):\n",
    "        circuit.cx(x[i],y[i])\n",
    "    \n",
    "    for i in range(N-2,0,-1):\n",
    "        circuit.cx(x[i],x[i+1])\n",
    "    \n",
    "    for i in range(1,N):\n",
    "        circuit.ccx(y[i-1],x[i-1],x[i])\n",
    "        circuit.cx(x[i],y[i])\n",
    "    \n",
    "    circuit.ccx(y[N-1],x[N-1],c)\n",
    "    \n",
    "    for i in range(N-2,-1,-1):\n",
    "        circuit.ccx(y[i],x[i],x[i+1])\n",
    "    \n",
    "    for i in range(1,N-1):\n",
    "        circuit.cx(x[i],x[i+1])\n",
    "    \n",
    "    circuit.cx(x[N-1],c)\n",
    "    \n",
    "    for i in range(N-1,0,-1):\n",
    "        circuit.cx(x[i],y[i])"
   ]
  },
  {
   "cell_type": "code",
   "execution_count": 3,
   "metadata": {},
   "outputs": [
    {
     "name": "stdout",
     "output_type": "stream",
     "text": [
      "8\n",
      "1000\n",
      "5\n",
      "0101\n"
     ]
    },
    {
     "data": {
      "text/plain": [
       "<qiskit.circuit.instructionset.InstructionSet at 0x16971e840a0>"
      ]
     },
     "execution_count": 3,
     "metadata": {},
     "output_type": "execute_result"
    }
   ],
   "source": [
    "n=4\n",
    "A=8\n",
    "B=5\n",
    "x = QuantumRegister(n)\n",
    "c = QuantumRegister(1)\n",
    "y = QuantumRegister(n)\n",
    "clas = ClassicalRegister(n+1)\n",
    "circuit = QuantumCircuit(y,x,c,clas)\n",
    "s_A=bin(int(A))[2:].zfill(n)\n",
    "print(A)\n",
    "print(s_A)\n",
    "s_B=bin(int(B))[2:].zfill(n)\n",
    "print(B)\n",
    "print(s_B)\n",
    "for i in range(0, n):\n",
    "    if s_B[i] == '1':\n",
    "        circuit.x(x[n-1-i])\n",
    "for i in range(0, n):\n",
    "    if s_A[i] == '1':\n",
    "        circuit.x(y[n-1-i])\n",
    "circuit.x(c[0])\n",
    "subtraction(circuit,x,y,c,n)\n",
    "for i in range(0,n):\n",
    "    circuit.measure(y[i],clas[i])\n",
    "circuit.measure(c,clas[n])"
   ]
  },
  {
   "cell_type": "code",
   "execution_count": 4,
   "metadata": {},
   "outputs": [
    {
     "data": {
      "image/png": "[encoded data removed]",
      "text/plain": [
       "<Figure size 504x360 with 1 Axes>"
      ]
     },
     "execution_count": 4,
     "metadata": {},
     "output_type": "execute_result"
    }
   ],
   "source": [
    "backend = BasicAer.get_backend('qasm_simulator')\n",
    "simulation = execute(circuit, backend=backend ,shots=10)\n",
    "sim_result = simulation.result()\n",
    "counts_result = sim_result.get_counts(circuit)\n",
    "plot_histogram(counts_result)"
   ]
  }
 ],
 "metadata": {
  "kernelspec": {
   "display_name": "Python 3",
   "language": "python",
   "name": "python3"
  },
  "language_info": {
   "codemirror_mode": {
    "name": "ipython",
    "version": 3
   },
   "file_extension": ".py",
   "mimetype": "text/x-python",
   "name": "python",
   "nbconvert_exporter": "python",
   "pygments_lexer": "ipython3",
   "version": "3.8.5"
  }
 },
 "nbformat": 4,
 "nbformat_minor": 4
}
