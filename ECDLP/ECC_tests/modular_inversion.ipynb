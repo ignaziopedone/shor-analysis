{
 "cells": [
  {
   "cell_type": "code",
   "execution_count": null,
   "metadata": {},
   "outputs": [],
   "source": [
    "import sys\n",
    "# setting path\n",
    "sys.path.append('..')\n",
    "# importing\n",
    "import ECC_library\n",
    "from qiskit.circuit import Gate\n",
    "from qiskit import ClassicalRegister, QuantumCircuit, QuantumRegister\n",
    "from qiskit import Aer, execute, IBMQ, BasicAer, transpile, visualization, circuit\n",
    "from qiskit.aqua import QuantumInstance\n",
    "import math"
   ]
  },
  {
   "cell_type": "code",
   "execution_count": null,
   "metadata": {},
   "outputs": [],
   "source": [
    "def register_cnot(circuit,x,t,type,n_ctrl):\n",
    "    if type=='0':\n",
    "        for i in range(0,n_ctrl):\n",
    "            circuit.x(x[i])\n",
    "        circuit.mcx(x,t)\n",
    "        for i in range(0,n_ctrl):\n",
    "            circuit.x(x[i])\n",
    "    else:\n",
    "        circuit.mcx(x,t)"
   ]
  },
  {
   "cell_type": "code",
   "execution_count": null,
   "metadata": {},
   "outputs": [],
   "source": [
    "def round(circuit,u,v,ca,s,r,cb,cc,m,f,k,l,n):\n",
    "    register_cnot(circuit,k,f,'0',l) #the qubit is toggled if k is 0, so we add another x-gate\n",
    "    circuit.x(f)\n",
    "    register_cnot(circuit,v,f,'0',n)\n",
    "    #circuit.x(f)\n",
    "    circuit.x(f)\n",
    "    ECC_library.incremental_gate_controlled(circuit,f[0:1]+k[0:l],v[0:l],l+1)\n",
    "    circuit.x(f)\n",
    "    #creating sub_circuit in order to apply the control to the block\n",
    "    ECC_library.controlled_block(circuit,f,u,v,ca,s,r,cb,cc,m,n)\n",
    "    "
   ]
  },
  {
   "cell_type": "code",
   "execution_count": null,
   "metadata": {
    "scrolled": true
   },
   "outputs": [],
   "source": [
    "a = 8\n",
    "p = 11\n",
    "n = 4\n",
    "R = (2**n)%p\n",
    "s_a=bin(int(a))[2:].zfill(n)\n",
    "s_p=bin(int(p))[2:].zfill(n)\n",
    "s_p=s_p[::-1]\n",
    "s_p1=s_p+'0'\n",
    "l = math.ceil(math.log(n,2))\n",
    "\n",
    "\n",
    "u = QuantumRegister(n,'u')\n",
    "v = QuantumRegister(n,'v')\n",
    "ca = QuantumRegister(1,'ca')\n",
    "s = QuantumRegister(n,'s')\n",
    "r = QuantumRegister(n,'r')\n",
    "cb = QuantumRegister(1,'cb')\n",
    "cc = QuantumRegister(1,'cc')\n",
    "m = QuantumRegister(2*n,'m')\n",
    "f = QuantumRegister(1,'f')\n",
    "k = QuantumRegister(l,'k')\n",
    "clas_u = ClassicalRegister(n)\n",
    "clas_v = ClassicalRegister(n)\n",
    "clas_s = ClassicalRegister(n)\n",
    "clas_r = ClassicalRegister(n)\n",
    "clas_k = ClassicalRegister(l)\n",
    "circuit = QuantumCircuit(u,v,ca,s,r,cb,cc,m,f,k,clas_u,clas_v,clas_s,clas_r,clas_k)\n",
    "for i in range(0,n):\n",
    "    if s_a[i] == '1':\n",
    "        circuit.x(v[n-1-i])\n",
    "circuit.x(s[0])\n",
    "circuit.barrier(u,v,ca,s,r,cb,cc,m,f,k)\n",
    "circuit.x(f)\n",
    "for i in range(0,2*n):\n",
    "    round(circuit,u,v,ca,s,r,cb,cc,m[i:i+1],f,k,l,n)\n",
    "\"\"\"now we have to copy r into another register\"\"\"\n",
    "\n",
    "\"\"\"now the modular doublings (k times)\"\"\"\n",
    "\n",
    "\"\"\"now the sign flip\"\"\"\n",
    "\n",
    "\n",
    "for i in range(0,n):\n",
    "    circuit.measure(u[i],clas_u[i])\n",
    "for i in range(0,n):\n",
    "    circuit.measure(v[i],clas_v[i])\n",
    "for i in range(0,n):\n",
    "    circuit.measure(s[i],clas_s[i])\n",
    "for i in range(0,n):\n",
    "    circuit.measure(r[i],clas_r[i])\n",
    "for i in range(0,l):\n",
    "    circuit.measure(k[i],clas_k[i])\n",
    "#circuit.draw()"
   ]
  },
  {
   "cell_type": "code",
   "execution_count": null,
   "metadata": {},
   "outputs": [],
   "source": [
    "IBMQ.load_account();\n",
    "provider = IBMQ.get_provider('ibm-q')\n",
    "backend = provider.get_backend('ibmq_qasm_simulator')\n",
    "simulation = execute(circuit, backend=backend ,shots=1)\n",
    "sim_result = simulation.result()\n",
    "out=list(sim_result.get_counts().keys())[0]\n",
    "output=out.split(' ')\n",
    "output_u = output[4]\n",
    "output_v = output[3]\n",
    "output_s = output[2]\n",
    "output_r = output[1]\n",
    "output_k = output[0]\n",
    "res_u = int(output_u, 2)\n",
    "res_v = int(output_v, 2)\n",
    "res_s = int(output_s, 2)\n",
    "res_r = int(output_r, 2)\n",
    "res_k = int(output_k, 2)\n",
    "print('res_u:',res_u,'res_v:',res_v,'res_s:',res_s,'res_r:',res_r,'res_k:',res_k)"
   ]
  }
 ],
 "metadata": {
  "kernelspec": {
   "display_name": "Python 3",
   "language": "python",
   "name": "python3"
  },
  "language_info": {
   "codemirror_mode": {
    "name": "ipython",
    "version": 3
   },
   "file_extension": ".py",
   "mimetype": "text/x-python",
   "name": "python",
   "nbconvert_exporter": "python",
   "pygments_lexer": "ipython3",
   "version": "3.8.5"
  }
 },
 "nbformat": 4,
 "nbformat_minor": 4
}
