{
 "cells": [
  {
   "cell_type": "code",
   "execution_count": null,
   "metadata": {},
   "outputs": [],
   "source": [
    "from qiskit import ClassicalRegister, QuantumCircuit, QuantumRegister\n",
    "from qiskit import Aer, execute, BasicAer\n",
    "from qiskit.visualization import plot_bloch_multivector, plot_histogram"
   ]
  },
  {
   "cell_type": "code",
   "execution_count": null,
   "metadata": {},
   "outputs": [],
   "source": [
    "\"\"\"Circuit for adding two integers, The circuit works on two registers holding the input integers,\n",
    "the first of size n qubits (x), the second of size n qubits (y), plus a carry qubit (c).\n",
    "It operates in place, i.e. the contents of the second register are replaced to hold the sum of the inputs\n",
    "storing a possible carry bit in the additionally available qubit.\"\"\"\n",
    "def integer_addition_Takahashi(circuit,x,y,c,N):\n",
    "    for i in range(1,N):\n",
    "        circuit.cx(x[i],y[i])\n",
    "    \n",
    "    circuit.cx(x[N-1],c)\n",
    "    \n",
    "    for i in range(N-2,0,-1):\n",
    "        circuit.cx(x[i],x[i+1])\n",
    "    \n",
    "    for i in range(0,N-1):\n",
    "        circuit.ccx(y[i],x[i],x[i+1])\n",
    "    \n",
    "    circuit.ccx(y[N-1],x[N-1],c)\n",
    "    \n",
    "    for i in range(N-1,0,-1):\n",
    "        circuit.cx(x[i],y[i])\n",
    "        circuit.ccx(y[i-1],x[i-1],x[i])\n",
    "    \n",
    "    for i in range(1,N-1):\n",
    "        circuit.cx(x[i],x[i+1])\n",
    "    \n",
    "    for i in range(0,N):\n",
    "        circuit.cx(x[i],y[i])"
   ]
  },
  {
   "cell_type": "code",
   "execution_count": null,
   "metadata": {},
   "outputs": [],
   "source": [
    "def integer_addition_Takahashi_inverse(circuit,x,y,c,N):\n",
    "    for i in range(N-1,-1,-1):\n",
    "        circuit.cx(x[i],y[i])\n",
    "    \n",
    "    for i in range(N-2,0,-1):\n",
    "        circuit.cx(x[i],x[i+1])\n",
    "    \n",
    "    for i in range(1,N):\n",
    "        circuit.ccx(y[i-1],x[i-1],x[i])\n",
    "        circuit.cx(x[i],y[i])\n",
    "    \n",
    "    circuit.ccx(y[N-1],x[N-1],c)\n",
    "    \n",
    "    for i in range(N-2,-1,-1):\n",
    "        circuit.ccx(y[i],x[i],x[i+1])\n",
    "    \n",
    "    for i in range(1,N-1):\n",
    "        circuit.cx(x[i],x[i+1])\n",
    "    \n",
    "    circuit.cx(x[N-1],c)\n",
    "    \n",
    "    for i in range(N-1,0,-1):\n",
    "        circuit.cx(x[i],y[i])"
   ]
  },
  {
   "cell_type": "code",
   "execution_count": null,
   "metadata": {},
   "outputs": [],
   "source": [
    "def test_add(a,b,n):\n",
    "    x = QuantumRegister(n)\n",
    "    y = QuantumRegister(n)\n",
    "    c = QuantumRegister(1)\n",
    "    clas = ClassicalRegister(n)\n",
    "    clas_c = ClassicalRegister(1)\n",
    "    circuit = QuantumCircuit(x,y,c,clas,clas_c)\n",
    "    s_a=bin(int(a))[2:].zfill(n)\n",
    "    s_b=bin(int(b))[2:].zfill(n)\n",
    "    for i in range(0, n):\n",
    "        if s_a[i] == '1':\n",
    "            circuit.x(x[n-1-i])\n",
    "        if s_b[i] == '1':\n",
    "            circuit.x(y[n-1-i])\n",
    "    integer_addition_Takahashi(circuit,x,y,c,n)\n",
    "    for i in range(0, n):\n",
    "        circuit.measure(y[i],clas[i])\n",
    "    circuit.measure(c,clas_c)\n",
    "    backend = BasicAer.get_backend('qasm_simulator')\n",
    "    simulation = execute(circuit, backend=backend ,shots=10)\n",
    "    sim_result = simulation.result()\n",
    "    out=list(sim_result.get_counts().keys())[0]\n",
    "    output=out.split(' ')\n",
    "    output_b = output[1]\n",
    "    output_c = output[0]\n",
    "    res_b = int(output_b, 2)\n",
    "    res_c = int(output_c, 2)\n",
    "    print(a,b,n)\n",
    "    print(res_b,res_c)\n",
    "    if( res_b!=(b+a)%2**n or res_c!=((a+b)>=2**n) ):\n",
    "        print('found!')"
   ]
  },
  {
   "cell_type": "code",
   "execution_count": null,
   "metadata": {},
   "outputs": [],
   "source": [
    "def test_sub(a,b,n):\n",
    "    x = QuantumRegister(n)\n",
    "    y = QuantumRegister(n)\n",
    "    c = QuantumRegister(1)\n",
    "    clas = ClassicalRegister(n)\n",
    "    clas_c = ClassicalRegister(1)\n",
    "    circuit = QuantumCircuit(x,y,c,clas,clas_c)\n",
    "    s_a=bin(int(a))[2:].zfill(n)\n",
    "    s_b=bin(int(b))[2:].zfill(n)\n",
    "    for i in range(0, n):\n",
    "        if s_a[i] == '1':\n",
    "            circuit.x(x[n-1-i])\n",
    "        if s_b[i] == '1':\n",
    "            circuit.x(y[n-1-i])\n",
    "    integer_addition_Takahashi_inverse(circuit,x,y,c,n)\n",
    "    for i in range(0, n):\n",
    "        circuit.measure(y[i],clas[i])\n",
    "    circuit.measure(c,clas_c)\n",
    "    backend = BasicAer.get_backend('qasm_simulator')\n",
    "    simulation = execute(circuit, backend=backend ,shots=10)\n",
    "    sim_result = simulation.result()\n",
    "    out=list(sim_result.get_counts().keys())[0]\n",
    "    output=out.split(' ')\n",
    "    output_b = output[1]\n",
    "    output_c = output[0]\n",
    "    res_b = int(output_b, 2)\n",
    "    res_c = int(output_c, 2)\n",
    "    print(a,b,n)\n",
    "    print(res_b,res_c)\n",
    "    if( res_b!=(b-a)%2**n or res_c!=(a>b) ):\n",
    "        print('found!')"
   ]
  },
  {
   "cell_type": "code",
   "execution_count": null,
   "metadata": {
    "scrolled": true
   },
   "outputs": [],
   "source": [
    "for i in range (0,2**5,3):\n",
    "    for j in range (0,2**5,7):\n",
    "        test_add(i,j,5)\n",
    "        print('-----------')"
   ]
  },
  {
   "cell_type": "code",
   "execution_count": null,
   "metadata": {
    "scrolled": true
   },
   "outputs": [],
   "source": [
    "for i in range (0,2**5,3):\n",
    "    for j in range (0,2**5,7):\n",
    "        test_sub(i,j,5)\n",
    "        print('-----------')"
   ]
  }
 ],
 "metadata": {
  "kernelspec": {
   "display_name": "Python 3",
   "language": "python",
   "name": "python3"
  },
  "language_info": {
   "codemirror_mode": {
    "name": "ipython",
    "version": 3
   },
   "file_extension": ".py",
   "mimetype": "text/x-python",
   "name": "python",
   "nbconvert_exporter": "python",
   "pygments_lexer": "ipython3",
   "version": "3.8.5"
  }
 },
 "nbformat": 4,
 "nbformat_minor": 4
}
