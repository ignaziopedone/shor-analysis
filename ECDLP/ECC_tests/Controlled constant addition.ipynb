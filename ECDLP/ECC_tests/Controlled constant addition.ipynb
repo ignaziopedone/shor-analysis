{
 "cells": [
  {
   "cell_type": "code",
   "execution_count": 1,
   "metadata": {},
   "outputs": [],
   "source": [
    "import sys\n",
    "# setting path\n",
    "sys.path.append('..')\n",
    "# importing\n",
    "import ECC_library\n",
    "import random\n",
    "from qiskit.circuit import Gate\n",
    "from qiskit import ClassicalRegister, QuantumCircuit, QuantumRegister\n",
    "from qiskit import Aer, execute, IBMQ, BasicAer\n",
    "from qiskit.aqua import QuantumInstance"
   ]
  },
  {
   "cell_type": "code",
   "execution_count": 2,
   "metadata": {},
   "outputs": [],
   "source": [
    "IBMQ.load_account();"
   ]
  },
  {
   "cell_type": "code",
   "execution_count": 3,
   "metadata": {},
   "outputs": [],
   "source": [
    "def test_ctrl_const_adder(A,c,n,ctrl,method='opt'):\n",
    "    provider = IBMQ.get_provider('ibm-q')\n",
    "    backend = provider.get_backend('ibmq_qasm_simulator')\n",
    "    controller = QuantumRegister(1)\n",
    "    x = QuantumRegister(n)\n",
    "    g = QuantumRegister(1)\n",
    "    clas = ClassicalRegister(n)\n",
    "    circuit = QuantumCircuit(controller,x,g,clas)\n",
    "    for i in range(0, n):\n",
    "        if A[i] == '1':\n",
    "            circuit.x(x[n-1-i])\n",
    "    if ctrl=='1':\n",
    "        circuit.x(controller)\n",
    "    if method!='opt':\n",
    "        ECC_library.basic_controlled_constant_addition(circuit,controller,x,g,c,n)\n",
    "    else:\n",
    "        ECC_library.controlled_constant_addition(circuit,controller,x,g,c,n)\n",
    "    for i in range(0,n):\n",
    "        circuit.measure(x[i],clas[i])\n",
    "    simulation = execute(circuit, backend=backend ,shots=1)\n",
    "    sim_result = simulation.result()\n",
    "    T = sim_result.time_taken\n",
    "    out=list(sim_result.get_counts().keys())[0]\n",
    "    res_A = int(out, 2)\n",
    "    return(res_A,T)"
   ]
  },
  {
   "cell_type": "code",
   "execution_count": 6,
   "metadata": {
    "scrolled": false
   },
   "outputs": [
    {
     "name": "stdout",
     "output_type": "stream",
     "text": [
      "205 197\n",
      "Optimized version\n",
      "-----------\n",
      "Basic version\n",
      "-------------------\n",
      "219 19\n",
      "Optimized version\n",
      "-----------\n",
      "Basic version\n",
      "-------------------\n",
      "24 210\n",
      "Optimized version\n",
      "-----------\n",
      "Basic version\n",
      "-------------------\n",
      "78 175\n",
      "Optimized version\n",
      "-----------\n",
      "Basic version\n",
      "-------------------\n",
      "149 158\n",
      "Optimized version\n",
      "-----------\n",
      "Basic version\n",
      "-------------------\n",
      "217 120\n",
      "Optimized version\n",
      "-----------\n",
      "Basic version\n",
      "-------------------\n",
      "169 152\n",
      "Optimized version\n",
      "-----------\n",
      "Basic version\n",
      "-------------------\n",
      "94 11\n",
      "Optimized version\n",
      "-----------\n",
      "Basic version\n",
      "-------------------\n",
      "212 116\n",
      "Optimized version\n",
      "-----------\n",
      "Basic version\n",
      "-------------------\n",
      "39 215\n",
      "Optimized version\n",
      "-----------\n",
      "Basic version\n",
      "-------------------\n"
     ]
    }
   ],
   "source": [
    "n=9\n",
    "N=2**(n-1)\n",
    "iter=0\n",
    "while iter<10:\n",
    "    iter = iter+1\n",
    "    i = random.randint(1,N-1)\n",
    "    j = random.randint(1,N-1)\n",
    "    A = bin(int(i))[2:].zfill(n)\n",
    "    c = bin(int(j))[2:].zfill(n)\n",
    "    c = c[::-1]\n",
    "    print(i,j)\n",
    "    print('Optimized version')\n",
    "    (res_A,T)=test_ctrl_const_adder(A,c,n,'1')\n",
    "    print(res_A,T)\n",
    "    print('-----------')\n",
    "    print('Basic version')\n",
    "    (res_A,T)=test_ctrl_const_adder(A,c,n,'1',method='basic')\n",
    "    print(res_A,T)\n",
    "    print('-------------------')"
   ]
  },
  {
   "cell_type": "code",
   "execution_count": 7,
   "metadata": {},
   "outputs": [
    {
     "name": "stdout",
     "output_type": "stream",
     "text": [
      "[990, 988, 880, 1074, 898, 927, 880, 999, 933, 1018]\n",
      "[9227, 9268, 8004, 9835, 8121, 8365, 7884, 9277, 8405, 9424]\n"
     ]
    }
   ],
   "source": [
    "print(d_vec_opt)\n",
    "print(d_vec_bas)"
   ]
  },
  {
   "cell_type": "code",
   "execution_count": 7,
   "metadata": {},
   "outputs": [
    {
     "name": "stdout",
     "output_type": "stream",
     "text": [
      "n: 4\n",
      "[82, 71, 82, 82, 75, 87, 83, 87, 87, 71]\n",
      "-------------\n",
      "n: 5\n",
      "[212, 218, 214, 211, 203, 207, 207, 198, 215, 212]\n",
      "-------------\n",
      "n: 6\n",
      "[504, 513, 522, 510, 510, 512, 516, 456, 457, 505]\n",
      "-------------\n",
      "n: 7\n",
      "[568, 565, 608, 605, 605, 601, 608, 552, 549, 560]\n",
      "-------------\n",
      "n: 8\n",
      "[681, 726, 730, 716, 666, 720, 687, 676, 713, 675]\n",
      "-------------\n",
      "n: 9\n",
      "[885, 887, 921, 886, 890, 927, 937, 930, 882, 934]\n",
      "-------------\n",
      "n: 10\n",
      "[1107, 1096, 1212, 1085, 1097, 1198, 1179, 1103, 1179, 1099]\n",
      "-------------\n",
      "n: 11\n",
      "[1470, 1422, 1469, 1416, 1582, 1416, 1413, 1481, 1422, 1472]\n",
      "-------------\n",
      "n: 12\n",
      "[1813, 1939, 1868, 1894, 1917, 1766, 1913, 1925, 1919, 1889]\n",
      "-------------\n",
      "n: 13\n",
      "[2099, 2089, 2122, 2026, 2149, 2093, 1934, 2007, 2032, 2039]\n",
      "-------------\n"
     ]
    }
   ],
   "source": [
    "\n",
    "for n in range (4,14):\n",
    "    d_vec=[]\n",
    "    print('n:',n)\n",
    "    N=2**(n-1)\n",
    "    iter=0\n",
    "    while iter<10:\n",
    "        iter = iter+1\n",
    "        i = random.randint(1,N-1)\n",
    "        j = random.randint(1,N-1)\n",
    "        A = bin(int(i))[2:].zfill(n)\n",
    "        c = bin(int(j))[2:].zfill(n)\n",
    "        d=test_ctrl_const_adder(A,c,n,'1')\n",
    "        d_vec.append(d)\n",
    "    print(d_vec)\n",
    "    print('-------------')"
   ]
  },
  {
   "cell_type": "code",
   "execution_count": null,
   "metadata": {},
   "outputs": [],
   "source": []
  }
 ],
 "metadata": {
  "kernelspec": {
   "display_name": "Python 3",
   "language": "python",
   "name": "python3"
  },
  "language_info": {
   "codemirror_mode": {
    "name": "ipython",
    "version": 3
   },
   "file_extension": ".py",
   "mimetype": "text/x-python",
   "name": "python",
   "nbconvert_exporter": "python",
   "pygments_lexer": "ipython3",
   "version": "3.8.5"
  }
 },
 "nbformat": 4,
 "nbformat_minor": 4
}
