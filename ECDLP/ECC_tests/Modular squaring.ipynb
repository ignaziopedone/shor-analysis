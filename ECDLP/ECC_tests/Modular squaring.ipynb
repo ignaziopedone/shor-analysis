{
 "cells": [
  {
   "cell_type": "code",
   "execution_count": 1,
   "metadata": {},
   "outputs": [],
   "source": [
    "import sys\n",
    "# setting path\n",
    "sys.path.append('..')\n",
    "# importing\n",
    "import ECC_library\n",
    "from qiskit.circuit import Gate\n",
    "from qiskit import ClassicalRegister, QuantumCircuit, QuantumRegister\n",
    "from qiskit import Aer, execute, IBMQ, BasicAer\n",
    "from qiskit.aqua import QuantumInstance\n",
    "from qiskit.visualization import plot_bloch_multivector, plot_histogram"
   ]
  },
  {
   "cell_type": "code",
   "execution_count": 2,
   "metadata": {},
   "outputs": [
    {
     "name": "stdout",
     "output_type": "stream",
     "text": [
      "a: 5 p: 7 g: 0\n",
      "res_ca: 0 res_a: 5 res_z: 4 res_cb: 0 res_g: 0\n"
     ]
    }
   ],
   "source": [
    "a=5\n",
    "p=7\n",
    "n=4\n",
    "g_s='0'\n",
    "ca = QuantumRegister(1,name='ca')\n",
    "x = QuantumRegister(n,name='x')\n",
    "z = QuantumRegister(n,name='z')\n",
    "cb = QuantumRegister(1,name='cb')\n",
    "g = QuantumRegister(1,name='g')\n",
    "clas_ca = ClassicalRegister(n)\n",
    "clas_a = ClassicalRegister(n)\n",
    "clas_z = ClassicalRegister(n)\n",
    "clas_cb = ClassicalRegister(1)\n",
    "clas_g = ClassicalRegister(1)\n",
    "circuit = QuantumCircuit(ca,x,z,cb,g,clas_ca,clas_a,clas_z,clas_cb,clas_g)\n",
    "s_a=bin(int(a))[2:].zfill(n)\n",
    "s_p=bin(int(p))[2:].zfill(n)\n",
    "s_p=s_p[::-1]\n",
    "if(g_s=='1'):\n",
    "    circuit.x(g)\n",
    "for i in range(0, n):\n",
    "    if s_a[i] == '1':\n",
    "        circuit.x(x[n-1-i])\n",
    "for i in range(n-1,0,-1):\n",
    "    circuit.cx(x[i],ca)\n",
    "    ECC_library.controlled_addition_modp(circuit,ca,x,z,cb,g,s_p,n)\n",
    "    circuit.cx(x[i],ca)\n",
    "    ECC_library.doubling_modp(circuit,z,cb,g,s_p,n)\n",
    "circuit.cx(x[0],ca)\n",
    "ECC_library.controlled_addition_modp(circuit,ca,x,z,cb,g,s_p,n)\n",
    "circuit.cx(x[0],ca)\n",
    "circuit.measure(ca,clas_ca)\n",
    "for i in range(0, n):\n",
    "    circuit.measure(x[i],clas_a[i])\n",
    "for i in range(0, n):\n",
    "    circuit.measure(z[i],clas_z[i])\n",
    "circuit.measure(cb,clas_cb)\n",
    "circuit.measure(g,clas_g)\n",
    "print('a:',a,'p:',p,'g:',g_s)\n",
    "backend = BasicAer.get_backend('qasm_simulator')\n",
    "simulation = execute(circuit, backend=backend ,shots=10)\n",
    "sim_result = simulation.result()\n",
    "out=list(sim_result.get_counts().keys())[0]\n",
    "output=out.split(' ')\n",
    "output_ca = output[4]\n",
    "output_a = output[3]\n",
    "output_z = output[2]\n",
    "output_cb = output[1]\n",
    "res_g = output[0]\n",
    "res_a = int(output_a, 2)\n",
    "res_ca = int(output_ca, 2)\n",
    "res_z = int(output_z, 2)\n",
    "res_cb = int(output_cb, 2)\n",
    "print('res_ca:',res_ca,'res_a:',res_a,'res_z:',res_z,'res_cb:',res_cb,'res_g:',res_g)\n",
    "if (res_z!=(a*a)%p):\n",
    "    print('error!')"
   ]
  }
 ],
 "metadata": {
  "kernelspec": {
   "display_name": "Python 3",
   "language": "python",
   "name": "python3"
  },
  "language_info": {
   "codemirror_mode": {
    "name": "ipython",
    "version": 3
   },
   "file_extension": ".py",
   "mimetype": "text/x-python",
   "name": "python",
   "nbconvert_exporter": "python",
   "pygments_lexer": "ipython3",
   "version": "3.8.5"
  }
 },
 "nbformat": 4,
 "nbformat_minor": 4
}
