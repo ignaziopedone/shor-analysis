{
 "cells": [
  {
   "cell_type": "code",
   "execution_count": null,
   "metadata": {},
   "outputs": [],
   "source": [
    "from qiskit import transpile\n",
    "from qiskit import ClassicalRegister, QuantumCircuit, QuantumRegister\n",
    "from qiskit import Aer, execute, IBMQ, BasicAer\n",
    "from qiskit.tools.visualization import plot_histogram\n",
    "from qiskit.providers.aer.noise import NoiseModel"
   ]
  },
  {
   "cell_type": "code",
   "execution_count": null,
   "metadata": {},
   "outputs": [],
   "source": [
    "def binary_halving_cyclic(circuit,x,n):\n",
    "    for i in range(1,n):\n",
    "        circuit.cx(x[i-1],x[i])\n",
    "        circuit.cx(x[i],x[i-1])\n",
    "        circuit.cx(x[i-1],x[i])"
   ]
  },
  {
   "cell_type": "code",
   "execution_count": null,
   "metadata": {},
   "outputs": [],
   "source": [
    "a=8\n",
    "n=5\n",
    "s_a=bin(int(a))[2:].zfill(n)\n",
    "number_shots=8192"
   ]
  },
  {
   "cell_type": "code",
   "execution_count": null,
   "metadata": {},
   "outputs": [],
   "source": [
    "def circuit_builder(n,s_a):\n",
    "    x = QuantumRegister(n)\n",
    "    c = ClassicalRegister(n)\n",
    "    circuit = QuantumCircuit(x,c)\n",
    "    for i in range(0,n):\n",
    "        if s_a[i] == '1':\n",
    "            circuit.x(x[n-1-i])\n",
    "    binary_halving_cyclic(circuit,x,n)\n",
    "    binary_halving_cyclic(circuit,x,n)\n",
    "    for i in range(0,n):\n",
    "        circuit.measure(x[i],c[i])\n",
    "    return circuit"
   ]
  },
  {
   "cell_type": "code",
   "execution_count": null,
   "metadata": {},
   "outputs": [],
   "source": [
    "provider = IBMQ.load_account()\n",
    "circuit = circuit_builder(n,s_a)"
   ]
  },
  {
   "cell_type": "code",
   "execution_count": null,
   "metadata": {},
   "outputs": [],
   "source": [
    "\"\"\"Performig the binary halving in a simulator without noise\"\"\"\n",
    "backend1 = provider.get_backend('ibmq_qasm_simulator')\n",
    "simulation1 = execute(circuit , backend=backend1 ,shots=number_shots)\n",
    "result1 = simulation1.result()\n",
    "counts1 = result1.get_counts(circuit)\n",
    "plot_histogram(counts1, title='Simulation without noise')"
   ]
  },
  {
   "cell_type": "code",
   "execution_count": null,
   "metadata": {},
   "outputs": [],
   "source": [
    "\"\"\"Performig the binary halving in ibmq_santiago\"\"\"\n",
    "backend2 = provider.get_backend('ibmq_santiago')\n",
    "simulation2 = execute(circuit , backend=backend2 ,shots=number_shots)\n",
    "result2 = simulation2.result()\n",
    "counts2 = result2.get_counts(circuit)\n",
    "plot_histogram(counts2, title='IBMQ_Santiago')"
   ]
  },
  {
   "cell_type": "code",
   "execution_count": null,
   "metadata": {},
   "outputs": [],
   "source": [
    "\"\"\"Performig the binary halving in a simulator with noise (Santiago)\"\"\"\n",
    "noise_model = NoiseModel.from_backend(backend2)\n",
    "coupling_map = backend2.configuration().coupling_map\n",
    "basis_gates = noise_model.basis_gates\n",
    "# Execute and get counts\n",
    "result_noise = execute(circuit, backend=backend1,\n",
    "                 coupling_map=coupling_map,\n",
    "                 basis_gates=basis_gates,\n",
    "                 noise_model=noise_model,\n",
    "                 shots=number_shots).result()\n",
    "counts_noise = result_noise.get_counts(circuit)\n",
    "plot_histogram(counts_noise, title='With Santiago noise')"
   ]
  },
  {
   "cell_type": "code",
   "execution_count": null,
   "metadata": {},
   "outputs": [],
   "source": [
    "\"\"\"Performig the binary halving in ibmq_manila\"\"\"\n",
    "backend3 = provider.get_backend('ibmq_manila')\n",
    "simulation = execute(circuit , backend=backend3 ,shots=number_shots)\n",
    "result = simulation.result()\n",
    "counts = result.get_counts(circuit)\n",
    "plot_histogram(counts, title='IBMQ_Manila')"
   ]
  },
  {
   "cell_type": "code",
   "execution_count": null,
   "metadata": {},
   "outputs": [],
   "source": [
    "\"\"\"Performig the binary halving in a simulator with noise (Manila)\"\"\"\n",
    "noise_model3 = NoiseModel.from_backend(backend3)\n",
    "coupling_map3 = backend3.configuration().coupling_map\n",
    "basis_gates3 = noise_model3.basis_gates\n",
    "backend_prop=backend3.properties()\n",
    "# Execute and get counts\n",
    "result_noise = execute(circuit, backend=backend1,\n",
    "                 coupling_map=coupling_map3,\n",
    "                 basis_gates=basis_gates3,\n",
    "                 noise_model=noise_model3,\n",
    "                 backend_properties=backend_prop,\n",
    "                 shots=number_shots).result()\n",
    "counts_noise = result_noise.get_counts(circuit)\n",
    "plot_histogram(counts_noise, title='With Manila noise')"
   ]
  },
  {
   "cell_type": "code",
   "execution_count": null,
   "metadata": {},
   "outputs": [],
   "source": [
    "\"\"\"Performig the binary halving in ibmq_bogota\"\"\"\n",
    "backend4 = provider.get_backend('ibmq_bogota')\n",
    "\"\"\"simulation = execute(circuit , backend=backend4 ,shots=number_shots)\n",
    "result = simulation.result()\n",
    "counts = result.get_counts(circuit)\n",
    "plot_histogram(counts, title='IBMQ_Bogota')\"\"\""
   ]
  },
  {
   "cell_type": "code",
   "execution_count": null,
   "metadata": {},
   "outputs": [],
   "source": [
    "\"\"\"Performig the binary halving in a simulator with noise (Bogota)\"\"\"\n",
    "noise_model4 = NoiseModel.from_backend(backend4)\n",
    "coupling_map4 = backend4.configuration().coupling_map\n",
    "basis_gates4 = noise_model4.basis_gates\n",
    "# Execute and get counts\n",
    "result_noise4 = execute(circuit, backend=backend1,\n",
    "                 coupling_map=coupling_map4,\n",
    "                 basis_gates=basis_gates4,\n",
    "                 noise_model=noise_model4,\n",
    "                 shots=number_shots).result()\n",
    "counts_noise4 = result_noise4.get_counts(circuit)\n",
    "plot_histogram(counts_noise4, title='With Bogota noise')"
   ]
  },
  {
   "cell_type": "code",
   "execution_count": null,
   "metadata": {},
   "outputs": [],
   "source": [
    "\"\"\"Performig the binary halving in ibmq_quito\"\"\"\n",
    "backend5 = provider.get_backend('ibmq_quito')\n",
    "simulation = execute(circuit , backend=backend5 ,shots=number_shots)\n",
    "result = simulation.result()\n",
    "counts = result.get_counts(circuit)\n",
    "plot_histogram(counts, title='IBMQ_Quito')"
   ]
  },
  {
   "cell_type": "code",
   "execution_count": null,
   "metadata": {},
   "outputs": [],
   "source": [
    "\"\"\"Performig the binary halving in a simulator with noise (Quito)\"\"\"\n",
    "noise_model5 = NoiseModel.from_backend(backend5)\n",
    "coupling_map5 = backend5.configuration().coupling_map\n",
    "basis_gates5 = noise_model5.basis_gates\n",
    "# Execute and get counts\n",
    "result_noise5 = execute(circuit, backend=backend1,\n",
    "                 coupling_map=coupling_map5,\n",
    "                 basis_gates=basis_gates5,\n",
    "                 noise_model=noise_model5,\n",
    "                 shots=number_shots).result()\n",
    "counts_noise5 = result_noise5.get_counts(circuit)\n",
    "plot_histogram(counts_noise5, title='With Quito noise')"
   ]
  },
  {
   "cell_type": "code",
   "execution_count": null,
   "metadata": {},
   "outputs": [],
   "source": [
    "\"\"\"Performig the binary halving in ibmq_belem\"\"\"\n",
    "backend6 = provider.get_backend('ibmq_belem')\n",
    "simulation = execute(circuit , backend=backend6 ,shots=number_shots)\n",
    "result = simulation.result()\n",
    "counts = result.get_counts(circuit)\n",
    "plot_histogram(counts, title='IBMQ_Belem')"
   ]
  },
  {
   "cell_type": "code",
   "execution_count": null,
   "metadata": {},
   "outputs": [],
   "source": [
    "\"\"\"Performig the binary halving in a simulator with noise (Belem)\"\"\"\n",
    "noise_model6 = NoiseModel.from_backend(backend6)\n",
    "coupling_map6 = backend6.configuration().coupling_map\n",
    "basis_gates6 = noise_model6.basis_gates\n",
    "# Execute and get counts\n",
    "result_noise6 = execute(circuit, backend=backend1,\n",
    "                 coupling_map=coupling_map6,\n",
    "                 basis_gates=basis_gates6,\n",
    "                 noise_model=noise_model6,\n",
    "                 shots=number_shots).result()\n",
    "counts_noise6 = result_noise6.get_counts(circuit)\n",
    "plot_histogram(counts_noise6, title='With Belem noise')"
   ]
  }
 ],
 "metadata": {
  "kernelspec": {
   "display_name": "Python 3",
   "language": "python",
   "name": "python3"
  },
  "language_info": {
   "codemirror_mode": {
    "name": "ipython",
    "version": 3
   },
   "file_extension": ".py",
   "mimetype": "text/x-python",
   "name": "python",
   "nbconvert_exporter": "python",
   "pygments_lexer": "ipython3",
   "version": "3.8.5"
  }
 },
 "nbformat": 4,
 "nbformat_minor": 4
}
